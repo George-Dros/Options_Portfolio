{
 "cells": [
  {
   "cell_type": "markdown",
   "id": "e9c1f3fc",
   "metadata": {},
   "source": [
    "# Options Portfolio Optimization"
   ]
  },
  {
   "cell_type": "markdown",
   "id": "0bd509f4",
   "metadata": {},
   "source": [
    "## 1. Data collection"
   ]
  },
  {
   "cell_type": "markdown",
   "id": "8d971821",
   "metadata": {},
   "source": [
    "We import required libraries and modules and collect data for companies of the S&P 500."
   ]
  },
  {
   "cell_type": "code",
   "execution_count": 1,
   "id": "099e5cf3",
   "metadata": {},
   "outputs": [],
   "source": [
    "import numpy as np\n",
    "import pandas as pd\n",
    "import time\n",
    "import yfinance as yf\n",
    "import matplotlib.pyplot as plt\n",
    "import functions as f\n",
    "import pulp\n",
    "\n",
    "\n",
    "%load_ext autoreload\n",
    "%autoreload 2"
   ]
  },
  {
   "cell_type": "code",
   "execution_count": 2,
   "id": "faa2f606",
   "metadata": {},
   "outputs": [],
   "source": [
    "companies = f.get_companies()"
   ]
  },
  {
   "cell_type": "markdown",
   "id": "eb8ddf4d",
   "metadata": {},
   "source": [
    "We filter the tickers according to market cap market volume and desired dates. "
   ]
  },
  {
   "cell_type": "code",
   "execution_count": 3,
   "id": "0798a168",
   "metadata": {},
   "outputs": [],
   "source": [
    "filtered_companies = f.filter_all_companies(companies=companies)"
   ]
  },
  {
   "cell_type": "code",
   "execution_count": 4,
   "id": "92e3cd3e",
   "metadata": {
    "scrolled": true
   },
   "outputs": [],
   "source": [
    "last_row_df = filtered_companies.tail(1).T\n",
    "last_row_df.reset_index(inplace=True)\n",
    "last_row_df.columns = ['Company', 'Last Value']\n",
    "ticker_prices = last_row_df.set_index('Company')['Last Value'].round(2).to_dict()\n",
    "last_row_df.set_index('Company', inplace=True)"
   ]
  },
  {
   "cell_type": "markdown",
   "id": "8540f9fb",
   "metadata": {},
   "source": [
    "We get the calls, puts and spot price for each ticker."
   ]
  },
  {
   "cell_type": "code",
   "execution_count": 5,
   "id": "525e6f38",
   "metadata": {},
   "outputs": [
    {
     "name": "stdout",
     "output_type": "stream",
     "text": [
      "Attempt 1 failed with error: Expecting value: line 1 column 1 (char 0) - Retrying after 2 seconds...\n"
     ]
    },
    {
     "name": "stderr",
     "output_type": "stream",
     "text": [
      "$NKE: possibly delisted; no price data found  (period=1d)\n"
     ]
    },
    {
     "name": "stdout",
     "output_type": "stream",
     "text": [
      "Attempt 2 failed with error: No historical data available for ticker NKE. - Retrying after 2 seconds...\n"
     ]
    },
    {
     "name": "stderr",
     "output_type": "stream",
     "text": [
      "$NKE: possibly delisted; no price data found  (period=1d)\n"
     ]
    },
    {
     "name": "stdout",
     "output_type": "stream",
     "text": [
      "Attempt 3 failed with error: No historical data available for ticker NKE. - Retrying after 2 seconds...\n",
      "Error fetching data for NKE: Failed to get spot price and options data for ticker NKE after 3 attempts.\n"
     ]
    },
    {
     "name": "stderr",
     "output_type": "stream",
     "text": [
      "$NVDA: possibly delisted; no price data found  (period=1d)\n"
     ]
    },
    {
     "name": "stdout",
     "output_type": "stream",
     "text": [
      "Attempt 1 failed with error: No historical data available for ticker NVDA. - Retrying after 2 seconds...\n"
     ]
    },
    {
     "name": "stderr",
     "output_type": "stream",
     "text": [
      "$NVDA: possibly delisted; no price data found  (period=1d)\n"
     ]
    },
    {
     "name": "stdout",
     "output_type": "stream",
     "text": [
      "Attempt 2 failed with error: No historical data available for ticker NVDA. - Retrying after 2 seconds...\n"
     ]
    },
    {
     "name": "stderr",
     "output_type": "stream",
     "text": [
      "$NVDA: possibly delisted; no price data found  (period=1d)\n"
     ]
    },
    {
     "name": "stdout",
     "output_type": "stream",
     "text": [
      "Attempt 3 failed with error: No historical data available for ticker NVDA. - Retrying after 2 seconds...\n",
      "Error fetching data for NVDA: Failed to get spot price and options data for ticker NVDA after 3 attempts.\n"
     ]
    },
    {
     "name": "stderr",
     "output_type": "stream",
     "text": [
      "$PLTR: possibly delisted; no price data found  (period=1d)\n"
     ]
    },
    {
     "name": "stdout",
     "output_type": "stream",
     "text": [
      "Attempt 1 failed with error: No historical data available for ticker PLTR. - Retrying after 2 seconds...\n"
     ]
    },
    {
     "name": "stderr",
     "output_type": "stream",
     "text": [
      "$PLTR: possibly delisted; no price data found  (period=1d)\n"
     ]
    },
    {
     "name": "stdout",
     "output_type": "stream",
     "text": [
      "Attempt 2 failed with error: No historical data available for ticker PLTR. - Retrying after 2 seconds...\n"
     ]
    },
    {
     "name": "stderr",
     "output_type": "stream",
     "text": [
      "$PLTR: possibly delisted; no price data found  (period=1d)\n"
     ]
    },
    {
     "name": "stdout",
     "output_type": "stream",
     "text": [
      "Attempt 3 failed with error: No historical data available for ticker PLTR. - Retrying after 2 seconds...\n",
      "Error fetching data for PLTR: Failed to get spot price and options data for ticker PLTR after 3 attempts.\n"
     ]
    },
    {
     "name": "stderr",
     "output_type": "stream",
     "text": [
      "$PYPL: possibly delisted; no price data found  (period=1d)\n"
     ]
    },
    {
     "name": "stdout",
     "output_type": "stream",
     "text": [
      "Attempt 1 failed with error: No historical data available for ticker PYPL. - Retrying after 2 seconds...\n"
     ]
    },
    {
     "name": "stderr",
     "output_type": "stream",
     "text": [
      "$PYPL: possibly delisted; no price data found  (period=1d)\n"
     ]
    },
    {
     "name": "stdout",
     "output_type": "stream",
     "text": [
      "Attempt 2 failed with error: No historical data available for ticker PYPL. - Retrying after 2 seconds...\n"
     ]
    },
    {
     "name": "stderr",
     "output_type": "stream",
     "text": [
      "$PYPL: possibly delisted; no price data found  (period=1d)\n"
     ]
    },
    {
     "name": "stdout",
     "output_type": "stream",
     "text": [
      "Attempt 3 failed with error: No historical data available for ticker PYPL. - Retrying after 2 seconds...\n",
      "Error fetching data for PYPL: Failed to get spot price and options data for ticker PYPL after 3 attempts.\n"
     ]
    },
    {
     "name": "stderr",
     "output_type": "stream",
     "text": [
      "$PFE: possibly delisted; no price data found  (period=1d)\n"
     ]
    },
    {
     "name": "stdout",
     "output_type": "stream",
     "text": [
      "Attempt 1 failed with error: No historical data available for ticker PFE. - Retrying after 2 seconds...\n"
     ]
    },
    {
     "name": "stderr",
     "output_type": "stream",
     "text": [
      "$PFE: possibly delisted; no price data found  (period=1d)\n"
     ]
    },
    {
     "name": "stdout",
     "output_type": "stream",
     "text": [
      "Attempt 2 failed with error: No historical data available for ticker PFE. - Retrying after 2 seconds...\n"
     ]
    },
    {
     "name": "stderr",
     "output_type": "stream",
     "text": [
      "$PFE: possibly delisted; no price data found  (period=1d)\n"
     ]
    },
    {
     "name": "stdout",
     "output_type": "stream",
     "text": [
      "Attempt 3 failed with error: No historical data available for ticker PFE. - Retrying after 2 seconds...\n",
      "Error fetching data for PFE: Failed to get spot price and options data for ticker PFE after 3 attempts.\n"
     ]
    },
    {
     "name": "stderr",
     "output_type": "stream",
     "text": [
      "$PCG: possibly delisted; no price data found  (period=1d)\n"
     ]
    },
    {
     "name": "stdout",
     "output_type": "stream",
     "text": [
      "Attempt 1 failed with error: No historical data available for ticker PCG. - Retrying after 2 seconds...\n"
     ]
    },
    {
     "name": "stderr",
     "output_type": "stream",
     "text": [
      "$PCG: possibly delisted; no price data found  (period=1d)\n"
     ]
    },
    {
     "name": "stdout",
     "output_type": "stream",
     "text": [
      "Attempt 2 failed with error: No historical data available for ticker PCG. - Retrying after 2 seconds...\n"
     ]
    },
    {
     "name": "stderr",
     "output_type": "stream",
     "text": [
      "$PCG: possibly delisted; no price data found  (period=1d)\n"
     ]
    },
    {
     "name": "stdout",
     "output_type": "stream",
     "text": [
      "Attempt 3 failed with error: No historical data available for ticker PCG. - Retrying after 2 seconds...\n",
      "Error fetching data for PCG: Failed to get spot price and options data for ticker PCG after 3 attempts.\n"
     ]
    },
    {
     "name": "stderr",
     "output_type": "stream",
     "text": [
      "$SLB: possibly delisted; no price data found  (period=1d)\n"
     ]
    },
    {
     "name": "stdout",
     "output_type": "stream",
     "text": [
      "Attempt 1 failed with error: No historical data available for ticker SLB. - Retrying after 2 seconds...\n"
     ]
    },
    {
     "name": "stderr",
     "output_type": "stream",
     "text": [
      "$SLB: possibly delisted; no price data found  (period=1d)\n"
     ]
    },
    {
     "name": "stdout",
     "output_type": "stream",
     "text": [
      "Attempt 2 failed with error: No historical data available for ticker SLB. - Retrying after 2 seconds...\n"
     ]
    },
    {
     "name": "stderr",
     "output_type": "stream",
     "text": [
      "$SLB: possibly delisted; no price data found  (period=1d)\n"
     ]
    },
    {
     "name": "stdout",
     "output_type": "stream",
     "text": [
      "Attempt 3 failed with error: No historical data available for ticker SLB. - Retrying after 2 seconds...\n",
      "Error fetching data for SLB: Failed to get spot price and options data for ticker SLB after 3 attempts.\n"
     ]
    }
   ],
   "source": [
    "#tickers = filtered_companies.columns\n",
    "\n",
    "tickers = ['AMD', 'GOOGL', 'GOOG', 'AMZN', 'AAPL', 'T', 'BAC', 'BA', 'BMY', 'AVGO',\n",
    "       'CMG', 'CSCO', 'C', 'KO', 'CMCSA', 'CSX', 'CVS', 'XOM', 'FCX', 'GM',\n",
    "       'INTC', 'KMI', 'LRCX', 'META', 'MU', 'MSFT', 'NKE', 'NVDA', 'PLTR',\n",
    "       'PYPL', 'PFE', 'PCG', 'SLB', 'TSLA', 'UBER', 'VZ', 'WMT', 'WFC']\n",
    "\n",
    "option_chains = {}\n",
    "\n",
    "for ticker in tickers:\n",
    "    try:\n",
    "        # Call the function for each ticker\n",
    "        calls_all, puts_all, spot_price = f.get_option_chains_spot(ticker_symbol=ticker)\n",
    "        \n",
    "        # Store the result in the dictionary\n",
    "        option_chains[ticker] = {\n",
    "            'calls': calls_all,\n",
    "            'puts': puts_all,\n",
    "            'spot_price': spot_price\n",
    "        }\n",
    "    except Exception as e:\n",
    "        print(f\"Error fetching data for {ticker}: {e}\")"
   ]
  },
  {
   "cell_type": "code",
   "execution_count": 6,
   "id": "d9b46251",
   "metadata": {},
   "outputs": [],
   "source": [
    "#option_chains"
   ]
  },
  {
   "cell_type": "markdown",
   "id": "58d9d553",
   "metadata": {},
   "source": [
    "| **Option Type**  | **Underlying Price vs. Strike Price** | **Moneyness**          |\n",
    "|-------------------|---------------------------------------|------------------------|\n",
    "| **Call Option**   | Asset Price > Strike Price            | In the Money (ITM)     |\n",
    "|                   | Asset Price = Strike Price            | At the Money (ATM)     |\n",
    "|                   | Asset Price < Strike Price            | Out of the Money (OTM) |\n",
    "| **Put Option**    | Asset Price < Strike Price            | In the Money (ITM)     |\n",
    "|                   | Asset Price = Strike Price            | At the Money (ATM)     |\n",
    "|                   | Asset Price > Strike Price            | Out of the Money (OTM) |\n"
   ]
  },
  {
   "cell_type": "markdown",
   "id": "267dd9c6",
   "metadata": {},
   "source": [
    "We filter the options to exclude irregular volatilities and maturity dates close to present date."
   ]
  },
  {
   "cell_type": "code",
   "execution_count": 7,
   "id": "dfa47aab",
   "metadata": {},
   "outputs": [
    {
     "name": "stdout",
     "output_type": "stream",
     "text": [
      "Filtered 466 calls for AMD.\n",
      "Filtered 461 puts for AMD.\n",
      "Filtered 533 calls for GOOGL.\n",
      "Filtered 437 puts for GOOGL.\n",
      "Filtered 342 calls for GOOG.\n",
      "Filtered 300 puts for GOOG.\n",
      "Filtered 497 calls for AMZN.\n",
      "Filtered 464 puts for AMZN.\n",
      "Filtered 588 calls for AAPL.\n",
      "Filtered 563 puts for AAPL.\n",
      "Filtered 103 calls for T.\n",
      "Filtered 105 puts for T.\n",
      "Filtered 239 calls for BAC.\n",
      "Filtered 236 puts for BAC.\n",
      "Filtered 422 calls for BA.\n",
      "Filtered 359 puts for BA.\n",
      "Filtered 174 calls for BMY.\n",
      "Filtered 175 puts for BMY.\n",
      "Filtered 774 calls for AVGO.\n",
      "Filtered 861 puts for AVGO.\n",
      "Filtered 519 calls for CMG.\n",
      "Filtered 490 puts for CMG.\n",
      "Filtered 164 calls for CSCO.\n",
      "Filtered 165 puts for CSCO.\n",
      "Filtered 205 calls for C.\n",
      "Filtered 205 puts for C.\n",
      "Filtered 146 calls for KO.\n",
      "Filtered 129 puts for KO.\n",
      "Filtered 88 calls for CMCSA.\n",
      "Filtered 86 puts for CMCSA.\n",
      "Filtered 70 calls for CSX.\n",
      "Filtered 68 puts for CSX.\n",
      "Filtered 200 calls for CVS.\n",
      "Filtered 188 puts for CVS.\n",
      "Filtered 263 calls for XOM.\n",
      "Filtered 229 puts for XOM.\n",
      "Filtered 199 calls for FCX.\n",
      "Filtered 184 puts for FCX.\n",
      "Filtered 165 calls for GM.\n",
      "Filtered 160 puts for GM.\n",
      "Filtered 281 calls for INTC.\n",
      "Filtered 258 puts for INTC.\n",
      "Filtered 101 calls for KMI.\n",
      "Filtered 93 puts for KMI.\n",
      "Filtered 539 calls for LRCX.\n",
      "Filtered 490 puts for LRCX.\n",
      "Filtered 1404 calls for META.\n",
      "Filtered 1250 puts for META.\n",
      "Filtered 439 calls for MU.\n",
      "Filtered 382 puts for MU.\n",
      "Filtered 1007 calls for MSFT.\n",
      "Filtered 809 puts for MSFT.\n",
      "Filtered 1095 calls for TSLA.\n",
      "Filtered 1147 puts for TSLA.\n",
      "Filtered 309 calls for UBER.\n",
      "Filtered 279 puts for UBER.\n",
      "Filtered 138 calls for VZ.\n",
      "Filtered 133 puts for VZ.\n",
      "Filtered 264 calls for WMT.\n",
      "Filtered 244 puts for WMT.\n",
      "Filtered 222 calls for WFC.\n",
      "Filtered 217 puts for WFC.\n"
     ]
    }
   ],
   "source": [
    "filtered_options = {}\n",
    "\n",
    "r = 0.03\n",
    "lower_bound = 0.0821  \n",
    "upper_bound = 2    \n",
    "tolerance = 1      \n",
    "min_iv = 0.05         \n",
    "max_iv = 1.5         \n",
    "\n",
    "for ticker, data in option_chains.items():\n",
    "    try:\n",
    "        spot_price = data['spot_price']  # Get the spot price for the ticker\n",
    "\n",
    "        for mode in ['calls', 'puts']:  # Iterate through calls and puts\n",
    "            options_df = data[mode]  # Get the DataFrame for this mode\n",
    "\n",
    "            # Remove options with missing or zero implied volatility\n",
    "            options_df = options_df[options_df['impliedVolatility'] > 0]\n",
    "            options_df = options_df[options_df['impliedVolatility'].notnull()]\n",
    "\n",
    "            # Ensure 'expiration' is in string format 'YYYY-MM-DD'\n",
    "            options_df['expiration'] = options_df['expiration'].astype(str)\n",
    "\n",
    "            # Calculate 'time_to_expiration' using the corrected function\n",
    "            options_df['time_to_expiration'] = options_df['expiration'].apply(f.calculate_time_to_expiration_from_today)\n",
    "\n",
    "            # Apply filtering criteria\n",
    "            filtered = options_df[\n",
    "                (options_df[\"time_to_expiration\"] >= lower_bound) &\n",
    "                (options_df[\"time_to_expiration\"] <= upper_bound) &\n",
    "                (options_df[\"strike\"] >= spot_price * (1 - tolerance)) &\n",
    "                (options_df[\"strike\"] <= spot_price * (1 + tolerance)) &\n",
    "                (options_df[\"impliedVolatility\"] >= min_iv) &\n",
    "                (options_df[\"impliedVolatility\"] <= max_iv)\n",
    "            ]\n",
    "\n",
    "            # Ensure the ticker exists in the filtered options dictionary\n",
    "            if ticker not in filtered_options:\n",
    "                filtered_options[ticker] = {\"spot_price\": spot_price}\n",
    "\n",
    "            # Store the filtered options\n",
    "            filtered_options[ticker][mode] = filtered\n",
    "\n",
    "            # Print a summary for verification\n",
    "            print(f\"Filtered {len(filtered)} {mode} for {ticker}.\")\n",
    "    except Exception as e:\n",
    "        print(f\"Error processing {ticker} {mode}: {e}\")"
   ]
  },
  {
   "cell_type": "code",
   "execution_count": 8,
   "id": "1a45ef2d",
   "metadata": {
    "scrolled": true
   },
   "outputs": [],
   "source": [
    "#filtered_options"
   ]
  },
  {
   "cell_type": "markdown",
   "id": "798f9457",
   "metadata": {},
   "source": [
    "## 2. Black-Scholes calculation"
   ]
  },
  {
   "cell_type": "markdown",
   "id": "b8754383",
   "metadata": {},
   "source": [
    "We calculate the Black-Scholes price for each of the options."
   ]
  },
  {
   "cell_type": "code",
   "execution_count": 9,
   "id": "61a20dfa",
   "metadata": {},
   "outputs": [],
   "source": [
    "for ticker in filtered_options.keys():\n",
    "    # Round the spot price to 2 decimal places and update it in the dictionary\n",
    "    filtered_options[ticker][\"spot_price\"] = round(filtered_options[ticker][\"spot_price\"], 2)\n",
    "    spot = filtered_options[ticker][\"spot_price\"]\n",
    "\n",
    "    # Vectorized calculations for \"calls\"\n",
    "    if \"calls\" in filtered_options[ticker]:\n",
    "        calls = filtered_options[ticker][\"calls\"].copy()  # Make a copy of the DataFrame\n",
    "        calls[\"blackScholes_Price\"] = f.black_scholes_call(\n",
    "            S=spot,\n",
    "            K=calls[\"strike\"],\n",
    "            T=calls[\"time_to_expiration\"],\n",
    "            r=r,\n",
    "            sigma=calls[\"impliedVolatility\"]\n",
    "        )\n",
    "        # Round Black-Scholes Price to 2 decimals\n",
    "        calls[\"blackScholes_Price\"] = calls[\"blackScholes_Price\"].round(2)\n",
    "\n",
    "        # Delta, Vega, Gamma, Theta, Rho Calculations (unchanged)\n",
    "        calls[\"delta\"] = f.delta_call(\n",
    "            S=spot,\n",
    "            K=calls[\"strike\"],\n",
    "            T=calls[\"time_to_expiration\"],\n",
    "            r=r,\n",
    "            sigma=calls[\"impliedVolatility\"]\n",
    "        )\n",
    "        calls[\"vega\"] = f.vega(\n",
    "            S=spot,\n",
    "            K=calls[\"strike\"],\n",
    "            T=calls[\"time_to_expiration\"],\n",
    "            r=r,\n",
    "            sigma=calls[\"impliedVolatility\"]\n",
    "        )\n",
    "        calls[\"gamma\"] = f.gamma(\n",
    "            S=spot,\n",
    "            K=calls[\"strike\"],\n",
    "            T=calls[\"time_to_expiration\"],\n",
    "            r=r,\n",
    "            sigma=calls[\"impliedVolatility\"]\n",
    "        )\n",
    "        calls[\"theta\"] = f.theta_call(\n",
    "            S=spot,\n",
    "            K=calls[\"strike\"],\n",
    "            T=calls[\"time_to_expiration\"],\n",
    "            r=r,\n",
    "            sigma=calls[\"impliedVolatility\"]\n",
    "        )\n",
    "        calls[\"rho\"] = f.rho_call(\n",
    "            S=spot,\n",
    "            K=calls[\"strike\"],\n",
    "            T=calls[\"time_to_expiration\"],\n",
    "            r=r,\n",
    "            sigma=calls[\"impliedVolatility\"]\n",
    "        )\n",
    "        # Save the updated DataFrame back\n",
    "        filtered_options[ticker][\"calls\"] = calls\n",
    "\n",
    "    # Vectorized calculations for \"puts\"\n",
    "    if \"puts\" in filtered_options[ticker]:\n",
    "        puts = filtered_options[ticker][\"puts\"].copy()  # Make a copy of the DataFrame\n",
    "        puts[\"blackScholes_Price\"] = f.black_scholes_put(\n",
    "            S=spot,\n",
    "            K=puts[\"strike\"],\n",
    "            T=puts[\"time_to_expiration\"],\n",
    "            r=r,\n",
    "            sigma=puts[\"impliedVolatility\"]\n",
    "        )\n",
    "        # Round Black-Scholes Price to 2 decimals\n",
    "        puts[\"blackScholes_Price\"] = puts[\"blackScholes_Price\"].round(2)\n",
    "\n",
    "        # Delta, Vega, Gamma, Theta, Rho Calculations (unchanged)\n",
    "        puts[\"delta\"] = f.delta_put(\n",
    "            S=spot,\n",
    "            K=puts[\"strike\"],\n",
    "            T=puts[\"time_to_expiration\"],\n",
    "            r=r,\n",
    "            sigma=puts[\"impliedVolatility\"]\n",
    "        )\n",
    "        puts[\"vega\"] = f.vega(\n",
    "            S=spot,\n",
    "            K=puts[\"strike\"],\n",
    "            T=puts[\"time_to_expiration\"],\n",
    "            r=r,\n",
    "            sigma=puts[\"impliedVolatility\"]\n",
    "        )\n",
    "        puts[\"gamma\"] = f.gamma(\n",
    "            S=spot,\n",
    "            K=puts[\"strike\"],\n",
    "            T=puts[\"time_to_expiration\"],\n",
    "            r=r,\n",
    "            sigma=puts[\"impliedVolatility\"]\n",
    "        )\n",
    "        puts[\"theta\"] = f.theta_put(\n",
    "            S=spot,\n",
    "            K=puts[\"strike\"],\n",
    "            T=puts[\"time_to_expiration\"],\n",
    "            r=r,\n",
    "            sigma=puts[\"impliedVolatility\"]\n",
    "        )\n",
    "        puts[\"rho\"] = f.rho_put(\n",
    "            S=spot,\n",
    "            K=puts[\"strike\"],\n",
    "            T=puts[\"time_to_expiration\"],\n",
    "            r=r,\n",
    "            sigma=puts[\"impliedVolatility\"]\n",
    "        )\n",
    "        # Save the updated DataFrame back\n",
    "        filtered_options[ticker][\"puts\"] = puts"
   ]
  },
  {
   "cell_type": "code",
   "execution_count": 10,
   "id": "e9c7953a",
   "metadata": {
    "scrolled": true
   },
   "outputs": [],
   "source": [
    "#filtered_options"
   ]
  },
  {
   "cell_type": "markdown",
   "id": "40400dc3",
   "metadata": {},
   "source": [
    "We combine the calls and puts into one dataframe and drop and possible NaN values."
   ]
  },
  {
   "cell_type": "code",
   "execution_count": 11,
   "id": "9653e241",
   "metadata": {},
   "outputs": [
    {
     "name": "stdout",
     "output_type": "stream",
     "text": [
      "Rows with all NaN values:\n",
      "Empty DataFrame\n",
      "Columns: [strike, lastPrice, impliedVolatility, expiration, time_to_expiration, blackScholes_Price, delta, vega, gamma, theta, rho, type, stock, spot_price]\n",
      "Index: []\n",
      "Rows with partial NaN values:\n",
      "Empty DataFrame\n",
      "Columns: [strike, lastPrice, impliedVolatility, expiration, time_to_expiration, blackScholes_Price, delta, vega, gamma, theta, rho, type, stock, spot_price]\n",
      "Index: []\n",
      "strike                0\n",
      "lastPrice             0\n",
      "impliedVolatility     0\n",
      "expiration            0\n",
      "time_to_expiration    0\n",
      "blackScholes_Price    0\n",
      "delta                 0\n",
      "vega                  0\n",
      "gamma                 0\n",
      "theta                 0\n",
      "rho                   0\n",
      "type                  0\n",
      "stock                 0\n",
      "spot_price            0\n",
      "dtype: int64\n",
      "Number of rows after cleaning: 23123\n"
     ]
    }
   ],
   "source": [
    "# Combine calls and puts across all stocks\n",
    "all_options = []\n",
    "for stock, data in filtered_options.items():\n",
    "    spot_price = data['spot_price']  # Get the spot price of the stock\n",
    "    \n",
    "    if not data['calls'].empty:\n",
    "        # Add stock and spot price columns to calls\n",
    "        data['calls']['type'] = 'call'\n",
    "        data['calls']['stock'] = stock\n",
    "        data['calls']['spot_price'] = spot_price\n",
    "        all_options.append(data['calls'])\n",
    "    \n",
    "    if not data['puts'].empty:\n",
    "        # Add stock and spot price columns to puts\n",
    "        data['puts']['type'] = 'put'\n",
    "        data['puts']['stock'] = stock\n",
    "        data['puts']['spot_price'] = spot_price\n",
    "        all_options.append(data['puts'])\n",
    "\n",
    "# Concatenate into a single DataFrame\n",
    "all_options_df = pd.concat(all_options, ignore_index=True)\n",
    "\n",
    "# Find rows where all columns are NaN\n",
    "nan_rows = all_options_df[all_options_df.isnull().all(axis=1)]\n",
    "print(f\"Rows with all NaN values:\\n{nan_rows}\")\n",
    "\n",
    "# Find rows where any column is NaN\n",
    "partial_nan_rows = all_options_df[all_options_df.isnull().any(axis=1)]\n",
    "print(f\"Rows with partial NaN values:\\n{partial_nan_rows}\")\n",
    "\n",
    "# Drop rows where all columns are NaN\n",
    "all_options_df = all_options_df.dropna(how='all')\n",
    "\n",
    "# Define key columns that must not have NaN values\n",
    "key_columns = ['strike', 'blackScholes_Price', 'delta']\n",
    "\n",
    "# Drop rows where any key column is NaN\n",
    "all_options_df = all_options_df.dropna(subset=key_columns)\n",
    "\n",
    "# Check for remaining NaN values\n",
    "print(all_options_df.isnull().sum())\n",
    "\n",
    "# Check the shape of the cleaned DataFrame\n",
    "print(f\"Number of rows after cleaning: {len(all_options_df)}\")"
   ]
  },
  {
   "cell_type": "code",
   "execution_count": 12,
   "id": "6c56827e",
   "metadata": {},
   "outputs": [],
   "source": [
    "required_columns = ['strike', 'spot_price', 'blackScholes_Price', 'delta', 'gamma', 'vega', 'theta', 'type']\n",
    "missing_columns = [col for col in required_columns if col not in all_options_df.columns]\n",
    "if missing_columns:\n",
    "    raise ValueError(f\"Missing columns: {missing_columns}\")\n"
   ]
  },
  {
   "cell_type": "markdown",
   "id": "beef5a5c",
   "metadata": {},
   "source": [
    "## 3. Optimization"
   ]
  },
  {
   "cell_type": "markdown",
   "id": "a83cfada",
   "metadata": {},
   "source": [
    "We initialize the weights for our optimization problem"
   ]
  },
  {
   "cell_type": "code",
   "execution_count": 13,
   "id": "e8c4d742",
   "metadata": {},
   "outputs": [],
   "source": [
    "all_options_df['initial_weight'] = 1 / len(all_options_df)"
   ]
  },
  {
   "cell_type": "code",
   "execution_count": 14,
   "id": "b48998fc",
   "metadata": {},
   "outputs": [],
   "source": [
    "#all_options_df"
   ]
  },
  {
   "cell_type": "code",
   "execution_count": 15,
   "id": "4a99b676",
   "metadata": {},
   "outputs": [],
   "source": [
    "bounds = [(0, 1) for _ in range(len(all_options_df))]"
   ]
  },
  {
   "cell_type": "markdown",
   "id": "d365694e",
   "metadata": {},
   "source": [
    "We assume that our expected returns is the Black-Scholes price of each of the options minus the real market price of the option, thus assuming that the option is overvalued is the expected return is negative and vice-versa."
   ]
  },
  {
   "cell_type": "code",
   "execution_count": 16,
   "id": "c0eddb77",
   "metadata": {},
   "outputs": [],
   "source": [
    "all_options_df['market_price'] = all_options_df['lastPrice']\n",
    "all_options_df['market_price'] = all_options_df['market_price'].astype(float)\n",
    "all_options_df['delta'] = all_options_df['delta'].astype(float)\n",
    "all_options_df['vega'] = all_options_df['vega'].astype(float)\n",
    "all_options_df['gamma'] = all_options_df['gamma'].astype(float)\n",
    "all_options_df['theta'] = all_options_df['theta'].astype(float)\n",
    "all_options_df['rho'] = all_options_df['rho'].astype(float)\n",
    "all_options_df['expected_return'] = all_options_df['blackScholes_Price'] - all_options_df['market_price']"
   ]
  },
  {
   "cell_type": "markdown",
   "id": "c03b143b",
   "metadata": {},
   "source": [
    "For our problem, we assume a starting budget of $100,000 and fix the total greeks of the portfolio as constraints to the optimization problem. Our objective function is to maximize our expected returns. We use PuLP as our optimizer."
   ]
  },
  {
   "cell_type": "code",
   "execution_count": 17,
   "id": "abb45f8b",
   "metadata": {
    "scrolled": false
   },
   "outputs": [
    {
     "name": "stdout",
     "output_type": "stream",
     "text": [
      "Status: Optimal\n",
      "       strike  type stock  market_price     delta        vega     gamma  \\\n",
      "4748     22.0  call     T          2.90  0.681405    8.857743  0.061629   \n",
      "18384   520.0   put  MSFT         68.45 -0.998984    0.549306  0.000118   \n",
      "19047   440.0   put  MSFT         46.20 -0.464868  207.322251  0.004074   \n",
      "\n",
      "           theta         rho  expected_return  optimized_N  \n",
      "4748   -1.276799   14.318105             0.40    16.452563  \n",
      "18384  15.186346  -76.961730            32.24     5.250409  \n",
      "19047  -5.355448 -366.622676            -5.82    12.833270  \n",
      " \n",
      "Total Portfolio Delta: -4.526913699010038e-06\n",
      "Total Portfolio Vega: 280923.9086444495\n",
      "Total Portfolio Gamma: 106.68530444423327\n",
      "Total Portfolio Theta: -999.9998284674339\n",
      "Total Portfolio Rho: -487347.881732918\n",
      "Total Portfolio Cost: $100000.00\n",
      "Portfolio expected return: $10116.46\n"
     ]
    }
   ],
   "source": [
    "budget = 100000  # Your budget in dollars\n",
    "total_option_vega = all_options_df['vega'].sum()\n",
    "\n",
    "# Define Greek limits (adjust these values based on your risk tolerance)\n",
    "gamma_min = 0  # Positive Gamma\n",
    "gamma_max = 0.05 * budget  # No upper limit unless specified\n",
    "\n",
    "vega_min = 0.2 * total_option_vega  # 20% of total option Vega\n",
    "vega_max = 0.5 * total_option_vega  # 50% of total option Vega\n",
    "\n",
    "theta_min = -0.01 * budget  # Allowable Theta loss per day (adjust as needed)\n",
    "theta_max = 0  # Typically, Theta is negative for options buyers\n",
    "\n",
    "rho_min = None  # Set if you have a specific Rho target\n",
    "rho_max = None  # Set if you have a specific Rho limit\n",
    "\n",
    "# Optimization Setup\n",
    "prob = pulp.LpProblem(\"OptionsPortfolioOptimization\", pulp.LpMaximize)\n",
    "\n",
    "# Decision Variables\n",
    "N = [pulp.LpVariable(f\"N_{i}\", lowBound=0) for i in range(len(all_options_df))]\n",
    "\n",
    "# Objective Function: Maximize total portfolio Vega\n",
    "prob += pulp.lpSum([N[i] * all_options_df['vega'].iloc[i] * 100 for i in range(len(all_options_df))])\n",
    "\n",
    "# Budget Constraint\n",
    "prob += pulp.lpSum([N[i] * all_options_df['market_price'].iloc[i] * 100 for i in range(len(all_options_df))]) <= budget\n",
    "\n",
    "# Delta-neutral Constraint\n",
    "prob += pulp.lpSum([N[i] * all_options_df['delta'].iloc[i] * 100 for i in range(len(all_options_df))]) == 0\n",
    "\n",
    "# Gamma Constraint\n",
    "prob += pulp.lpSum([N[i] * all_options_df['gamma'].iloc[i] * 100 for i in range(len(all_options_df))]) >= gamma_min\n",
    "# If you want to set an upper limit, uncomment the following line and set gamma_max\n",
    "# prob += pulp.lpSum([N[i] * all_options_df['gamma'].iloc[i] * 100 for i in range(len(all_options_df))]) <= gamma_max\n",
    "\n",
    "# Vega Constraint: Total portfolio Vega should be between vega_min and vega_max\n",
    "prob += pulp.lpSum([N[i] * all_options_df['vega'].iloc[i] * 100 for i in range(len(all_options_df))]) >= vega_min\n",
    "prob += pulp.lpSum([N[i] * all_options_df['vega'].iloc[i] * 100 for i in range(len(all_options_df))]) <= vega_max\n",
    "\n",
    "# Theta Constraint\n",
    "prob += pulp.lpSum([N[i] * all_options_df['theta'].iloc[i] * 100 for i in range(len(all_options_df))]) >= theta_min\n",
    "prob += pulp.lpSum([N[i] * all_options_df['theta'].iloc[i] * 100 for i in range(len(all_options_df))]) <= theta_max\n",
    "\n",
    "# Rho Constraints (if needed)\n",
    "# If you have specific Rho limits, set rho_min and rho_max and uncomment the following lines\n",
    "# prob += pulp.lpSum([N[i] * all_options_df['rho'].iloc[i] * 100 for i in range(len(all_options_df))]) >= rho_min\n",
    "# prob += pulp.lpSum([N[i] * all_options_df['rho'].iloc[i] * 100 for i in range(len(all_options_df))]) <= rho_max\n",
    "\n",
    "# Solve the Problem\n",
    "prob.solve()\n",
    "\n",
    "# Solution Status\n",
    "print(f\"Status: {pulp.LpStatus[prob.status]}\")\n",
    "\n",
    "# Extract Optimized Quantities\n",
    "optimized_N = [var.varValue for var in N]\n",
    "all_options_df['optimized_N'] = optimized_N\n",
    "\n",
    "# Optimized Portfolio\n",
    "optimized_portfolio = all_options_df[all_options_df['optimized_N'] > 0]\n",
    "print(optimized_portfolio[['strike', 'type', 'stock', 'market_price', 'delta', 'vega', 'gamma', 'theta', 'rho', 'expected_return', 'optimized_N']])\n",
    "\n",
    "# Portfolio Metrics\n",
    "total_delta = (optimized_portfolio['delta'] * optimized_portfolio['optimized_N'] * 100).sum()\n",
    "total_vega = (optimized_portfolio['vega'] * optimized_portfolio['optimized_N'] * 100).sum()\n",
    "total_gamma = (optimized_portfolio['gamma'] * optimized_portfolio['optimized_N'] * 100).sum()\n",
    "total_theta = (optimized_portfolio['theta'] * optimized_portfolio['optimized_N'] * 100).sum()\n",
    "total_rho = (optimized_portfolio['rho'] * optimized_portfolio['optimized_N'] * 100).sum()\n",
    "total_cost = (optimized_portfolio['market_price'] * optimized_portfolio['optimized_N'] * 100).sum()\n",
    "expected_return = (optimized_portfolio['expected_return'] * optimized_portfolio['optimized_N'] * 100).sum()\n",
    "\n",
    "print(\" \")\n",
    "print(f\"Total Portfolio Delta: {total_delta}\")\n",
    "print(f\"Total Portfolio Vega: {total_vega}\")\n",
    "print(f\"Total Portfolio Gamma: {total_gamma}\")\n",
    "print(f\"Total Portfolio Theta: {total_theta}\")\n",
    "print(f\"Total Portfolio Rho: {total_rho}\")\n",
    "print(f\"Total Portfolio Cost: ${total_cost:.2f}\")\n",
    "print(f\"Portfolio expected return: ${expected_return:.2f}\")\n",
    "\n"
   ]
  },
  {
   "cell_type": "markdown",
   "id": "876fdeeb",
   "metadata": {},
   "source": [
    "We intentionally calibrated the optimizer to return float weights instead of integers, because integer calculation for such a portfolio was problematic. Below we will process our float weights into integers an re-check our constraints. In this case, the process failed and so we will re-calibrate our outputs again, until we pass the constraint criteria, or at least violate them in acceptable margins."
   ]
  },
  {
   "cell_type": "code",
   "execution_count": 18,
   "id": "165b867c",
   "metadata": {},
   "outputs": [
    {
     "name": "stdout",
     "output_type": "stream",
     "text": [
      "       strike  type stock  market_price     delta        vega     gamma  \\\n",
      "4748     22.0  call     T          2.90  0.681405    8.857743  0.061629   \n",
      "18384   520.0   put  MSFT         68.45 -0.998984    0.549306  0.000118   \n",
      "19047   440.0   put  MSFT         46.20 -0.464868  207.322251  0.004074   \n",
      "\n",
      "           theta         rho  expected_return  optimized_N  \n",
      "4748   -1.276799   14.318105             0.40           16  \n",
      "18384  15.186346  -76.961730            32.24            5  \n",
      "19047  -5.355448 -366.622676            -5.82           13  \n",
      " \n",
      "Total Portfolio Delta (Rounded): -13.573162675733101\n",
      "Total Portfolio Vega (Rounded): 283965.96876427135\n",
      "Total Portfolio Gamma (Rounded): 103.96119123936695\n",
      "Total Portfolio Theta (Rounded): -1411.7874985136596\n",
      "Total Portfolio Rho (Rounded): -492181.37660198525\n",
      "Total Portfolio Cost (Rounded): $98925.00\n",
      "Portfolio expected return: $9194.00\n",
      "\n",
      "Constraint Validation After Rounding:\n",
      "Delta Neutral: FAIL\n",
      "Vega within limits: PASS\n",
      "Gamma >= gamma_min: PASS\n",
      "Theta within limits: FAIL\n",
      "Budget constraint: PASS\n"
     ]
    }
   ],
   "source": [
    "# Round optimized_N to integers\n",
    "all_options_df['optimized_N'] = all_options_df['optimized_N'].apply(lambda x: round(x) if x > 0 else 0)\n",
    "\n",
    "# Recalculate Portfolio Metrics with Rounded Quantities\n",
    "optimized_portfolio = all_options_df[all_options_df['optimized_N'] > 0]\n",
    "\n",
    "total_delta = (optimized_portfolio['delta'] * optimized_portfolio['optimized_N'] * 100).sum()\n",
    "total_vega = (optimized_portfolio['vega'] * optimized_portfolio['optimized_N'] * 100).sum()\n",
    "total_gamma = (optimized_portfolio['gamma'] * optimized_portfolio['optimized_N'] * 100).sum()\n",
    "total_theta = (optimized_portfolio['theta'] * optimized_portfolio['optimized_N'] * 100).sum()\n",
    "total_rho = (optimized_portfolio['rho'] * optimized_portfolio['optimized_N'] * 100).sum()\n",
    "total_cost = (optimized_portfolio['market_price'] * optimized_portfolio['optimized_N'] * 100).sum()\n",
    "expected_return = (optimized_portfolio['expected_return'] * optimized_portfolio['optimized_N'] * 100).sum()\n",
    "\n",
    "\n",
    "# Print the updated rounded portfolio\n",
    "print(optimized_portfolio[['strike', 'type', 'stock', 'market_price', 'delta', 'vega', 'gamma', 'theta', 'rho','expected_return', 'optimized_N']])\n",
    "\n",
    "# Print updated portfolio metrics\n",
    "print(\" \")\n",
    "print(f\"Total Portfolio Delta (Rounded): {total_delta}\")\n",
    "print(f\"Total Portfolio Vega (Rounded): {total_vega}\")\n",
    "print(f\"Total Portfolio Gamma (Rounded): {total_gamma}\")\n",
    "print(f\"Total Portfolio Theta (Rounded): {total_theta}\")\n",
    "print(f\"Total Portfolio Rho (Rounded): {total_rho}\")\n",
    "print(f\"Total Portfolio Cost (Rounded): ${total_cost:.2f}\")\n",
    "print(f\"Portfolio expected return: ${expected_return:.2f}\")\n",
    "\n",
    "\n",
    "# Check if any constraints are violated\n",
    "print(\"\\nConstraint Validation After Rounding:\")\n",
    "print(f\"Delta Neutral: {'PASS' if abs(total_delta) < 1e-5 else 'FAIL'}\")\n",
    "print(f\"Vega within limits: {'PASS' if vega_min <= total_vega <= vega_max else 'FAIL'}\")\n",
    "print(f\"Gamma >= gamma_min: {'PASS' if total_gamma >= gamma_min else 'FAIL'}\")\n",
    "print(f\"Theta within limits: {'PASS' if theta_min <= total_theta <= theta_max else 'FAIL'}\")\n",
    "print(f\"Budget constraint: {'PASS' if total_cost <= budget else 'FAIL'}\")\n"
   ]
  },
  {
   "cell_type": "code",
   "execution_count": 19,
   "id": "2d5ae656",
   "metadata": {},
   "outputs": [
    {
     "name": "stdout",
     "output_type": "stream",
     "text": [
      "       strike  type stock  market_price     delta        vega     gamma  \\\n",
      "4748     22.0  call     T          2.90  0.681405    8.857743  0.061629   \n",
      "18384   520.0   put  MSFT         68.45 -0.998984    0.549306  0.000118   \n",
      "19047   440.0   put  MSFT         46.20 -0.464868  207.322251  0.004074   \n",
      "\n",
      "           theta         rho  expected_return  optimized_N  \n",
      "4748   -1.276799   14.318105             0.40           13  \n",
      "18384  15.186346  -76.961730            32.24            5  \n",
      "19047  -5.355448 -366.622676            -5.82           13  \n",
      " \n",
      "Total Portfolio Delta (Adjusted): -217.9946087575642\n",
      "Total Portfolio Vega (Adjusted): 281308.64581731963\n",
      "Total Portfolio Gamma (Adjusted): 85.47261160892822\n",
      "Total Portfolio Theta (Adjusted): -1028.7479215093826\n",
      "Total Portfolio Rho (Adjusted): -496476.8080107872\n",
      "Total Portfolio Cost (Adjusted): $98055.00\n",
      "Portfolio expected return: $9074.00\n",
      "\n",
      "Constraint Validation After adjusting:\n",
      "Delta Neutral: FAIL\n",
      "Vega within limits: PASS\n",
      "Gamma >= gamma_min: PASS\n",
      "Theta within limits: FAIL\n",
      "Budget constraint: PASS\n"
     ]
    }
   ],
   "source": [
    "optimized_portfolio = f.adjust_weights_to_constraints(\n",
    "    optimized_portfolio, budget, vega_min, vega_max, theta_min, theta_max\n",
    ")\n",
    "\n",
    "# Recalculate and validate metrics\n",
    "total_delta = (optimized_portfolio['delta'] * optimized_portfolio['optimized_N'] * 100).sum()\n",
    "total_vega = (optimized_portfolio['vega'] * optimized_portfolio['optimized_N'] * 100).sum()\n",
    "total_gamma = (optimized_portfolio['gamma'] * optimized_portfolio['optimized_N'] * 100).sum()\n",
    "total_theta = (optimized_portfolio['theta'] * optimized_portfolio['optimized_N'] * 100).sum()\n",
    "total_rho = (optimized_portfolio['rho'] * optimized_portfolio['optimized_N'] * 100).sum()\n",
    "total_cost = (optimized_portfolio['market_price'] * optimized_portfolio['optimized_N'] * 100).sum()\n",
    "expected_return = (optimized_portfolio['expected_return'] * optimized_portfolio['optimized_N'] * 100).sum()\n",
    "\n",
    "\n",
    "# Print adjusted portfolio and metrics\n",
    "print(optimized_portfolio[['strike', 'type', 'stock', 'market_price', 'delta', 'vega', 'gamma', 'theta', 'rho','expected_return', 'optimized_N']])\n",
    "\n",
    "print(\" \")\n",
    "print(f\"Total Portfolio Delta (Adjusted): {total_delta}\")\n",
    "print(f\"Total Portfolio Vega (Adjusted): {total_vega}\")\n",
    "print(f\"Total Portfolio Gamma (Adjusted): {total_gamma}\")\n",
    "print(f\"Total Portfolio Theta (Adjusted): {total_theta}\")\n",
    "print(f\"Total Portfolio Rho (Adjusted): {total_rho}\")\n",
    "print(f\"Total Portfolio Cost (Adjusted): ${total_cost:.2f}\")\n",
    "print(f\"Portfolio expected return: ${expected_return:.2f}\")\n",
    "\n",
    "print(\"\\nConstraint Validation After adjusting:\")\n",
    "print(f\"Delta Neutral: {'PASS' if abs(total_delta) < 1e-5 else 'FAIL'}\")\n",
    "print(f\"Vega within limits: {'PASS' if vega_min <= total_vega <= vega_max else 'FAIL'}\")\n",
    "print(f\"Gamma >= gamma_min: {'PASS' if total_gamma >= gamma_min else 'FAIL'}\")\n",
    "print(f\"Theta within limits: {'PASS' if theta_min <= total_theta <= theta_max else 'FAIL'}\")\n",
    "print(f\"Budget constraint: {'PASS' if total_cost <= budget else 'FAIL'}\")\n"
   ]
  },
  {
   "cell_type": "markdown",
   "id": "41ba8e65",
   "metadata": {},
   "source": [
    "We notice above that essentially the optimizer used only three total types of options for our portfolio, our greek constraints are inside the intervals proposed in the beginning, except delta, which is relatively close to 0. The expected returns for this portfolio is: $3921.00"
   ]
  },
  {
   "cell_type": "code",
   "execution_count": 20,
   "id": "401e465f",
   "metadata": {},
   "outputs": [
    {
     "data": {
      "text/html": [
       "<div>\n",
       "<style scoped>\n",
       "    .dataframe tbody tr th:only-of-type {\n",
       "        vertical-align: middle;\n",
       "    }\n",
       "\n",
       "    .dataframe tbody tr th {\n",
       "        vertical-align: top;\n",
       "    }\n",
       "\n",
       "    .dataframe thead th {\n",
       "        text-align: right;\n",
       "    }\n",
       "</style>\n",
       "<table border=\"1\" class=\"dataframe\">\n",
       "  <thead>\n",
       "    <tr style=\"text-align: right;\">\n",
       "      <th></th>\n",
       "      <th>strike</th>\n",
       "      <th>lastPrice</th>\n",
       "      <th>impliedVolatility</th>\n",
       "      <th>expiration</th>\n",
       "      <th>time_to_expiration</th>\n",
       "      <th>blackScholes_Price</th>\n",
       "      <th>delta</th>\n",
       "      <th>vega</th>\n",
       "      <th>gamma</th>\n",
       "      <th>theta</th>\n",
       "      <th>rho</th>\n",
       "      <th>type</th>\n",
       "      <th>stock</th>\n",
       "      <th>spot_price</th>\n",
       "      <th>initial_weight</th>\n",
       "      <th>market_price</th>\n",
       "      <th>expected_return</th>\n",
       "      <th>optimized_N</th>\n",
       "    </tr>\n",
       "  </thead>\n",
       "  <tbody>\n",
       "    <tr>\n",
       "      <th>4748</th>\n",
       "      <td>22.0</td>\n",
       "      <td>2.90</td>\n",
       "      <td>0.233406</td>\n",
       "      <td>2026-01-16</td>\n",
       "      <td>1.146045</td>\n",
       "      <td>3.30</td>\n",
       "      <td>0.681405</td>\n",
       "      <td>8.857743</td>\n",
       "      <td>0.061629</td>\n",
       "      <td>-1.276799</td>\n",
       "      <td>14.318105</td>\n",
       "      <td>call</td>\n",
       "      <td>T</td>\n",
       "      <td>23.18</td>\n",
       "      <td>0.000043</td>\n",
       "      <td>2.90</td>\n",
       "      <td>0.40</td>\n",
       "      <td>13</td>\n",
       "    </tr>\n",
       "    <tr>\n",
       "      <th>18384</th>\n",
       "      <td>520.0</td>\n",
       "      <td>68.45</td>\n",
       "      <td>0.179696</td>\n",
       "      <td>2025-01-17</td>\n",
       "      <td>0.148785</td>\n",
       "      <td>100.69</td>\n",
       "      <td>-0.998984</td>\n",
       "      <td>0.549306</td>\n",
       "      <td>0.000118</td>\n",
       "      <td>15.186346</td>\n",
       "      <td>-76.961730</td>\n",
       "      <td>put</td>\n",
       "      <td>MSFT</td>\n",
       "      <td>417.00</td>\n",
       "      <td>0.000043</td>\n",
       "      <td>68.45</td>\n",
       "      <td>32.24</td>\n",
       "      <td>5</td>\n",
       "    </tr>\n",
       "    <tr>\n",
       "      <th>19047</th>\n",
       "      <td>440.0</td>\n",
       "      <td>46.20</td>\n",
       "      <td>0.186966</td>\n",
       "      <td>2026-06-18</td>\n",
       "      <td>1.565223</td>\n",
       "      <td>40.38</td>\n",
       "      <td>-0.464868</td>\n",
       "      <td>207.322251</td>\n",
       "      <td>0.004074</td>\n",
       "      <td>-5.355448</td>\n",
       "      <td>-366.622676</td>\n",
       "      <td>put</td>\n",
       "      <td>MSFT</td>\n",
       "      <td>417.00</td>\n",
       "      <td>0.000043</td>\n",
       "      <td>46.20</td>\n",
       "      <td>-5.82</td>\n",
       "      <td>13</td>\n",
       "    </tr>\n",
       "  </tbody>\n",
       "</table>\n",
       "</div>"
      ],
      "text/plain": [
       "       strike  lastPrice  impliedVolatility  expiration  time_to_expiration  \\\n",
       "4748     22.0       2.90           0.233406  2026-01-16            1.146045   \n",
       "18384   520.0      68.45           0.179696  2025-01-17            0.148785   \n",
       "19047   440.0      46.20           0.186966  2026-06-18            1.565223   \n",
       "\n",
       "       blackScholes_Price     delta        vega     gamma      theta  \\\n",
       "4748                 3.30  0.681405    8.857743  0.061629  -1.276799   \n",
       "18384              100.69 -0.998984    0.549306  0.000118  15.186346   \n",
       "19047               40.38 -0.464868  207.322251  0.004074  -5.355448   \n",
       "\n",
       "              rho  type stock  spot_price  initial_weight  market_price  \\\n",
       "4748    14.318105  call     T       23.18        0.000043          2.90   \n",
       "18384  -76.961730   put  MSFT      417.00        0.000043         68.45   \n",
       "19047 -366.622676   put  MSFT      417.00        0.000043         46.20   \n",
       "\n",
       "       expected_return  optimized_N  \n",
       "4748              0.40           13  \n",
       "18384            32.24            5  \n",
       "19047            -5.82           13  "
      ]
     },
     "execution_count": 20,
     "metadata": {},
     "output_type": "execute_result"
    }
   ],
   "source": [
    "optimized_portfolio"
   ]
  },
  {
   "cell_type": "code",
   "execution_count": null,
   "id": "6a8e0de2",
   "metadata": {},
   "outputs": [],
   "source": []
  }
 ],
 "metadata": {
  "kernelspec": {
   "display_name": "Python 3 (ipykernel)",
   "language": "python",
   "name": "python3"
  },
  "language_info": {
   "codemirror_mode": {
    "name": "ipython",
    "version": 3
   },
   "file_extension": ".py",
   "mimetype": "text/x-python",
   "name": "python",
   "nbconvert_exporter": "python",
   "pygments_lexer": "ipython3",
   "version": "3.8.2"
  }
 },
 "nbformat": 4,
 "nbformat_minor": 5
}
